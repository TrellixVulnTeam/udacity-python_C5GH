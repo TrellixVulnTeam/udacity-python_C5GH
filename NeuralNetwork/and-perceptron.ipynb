{
 "cells": [
  {
   "cell_type": "code",
   "execution_count": 6,
   "metadata": {},
   "outputs": [
    {
     "name": "stdout",
     "output_type": "stream",
     "text": [
      "Nice! You got it all correct.\n",
      "\n",
      "Now: 0.5 0.5 -0.8\n",
      "Input 1  Input 2  Linear Combination  Activation Output Is Correct\n",
      "      0        0                -0.8                  0        Yes\n",
      "      0        1                -0.3                  0        Yes\n",
      "      1        0                -0.3                  0        Yes\n",
      "      1        1                 0.2                  1        Yes\n"
     ]
    }
   ],
   "source": [
    "import pandas as pd\n",
    "\n",
    "weight1 = 0.5\n",
    "weight2 = 0.5\n",
    "bias = -0.8\n",
    "\n",
    "test_inputs = [(0,0),(0,1),(1,0),(1,1)]\n",
    "correct_outputs = [False,False,False,True]\n",
    "outputs = []\n",
    "\n",
    "for test_input, correct_output in zip(test_inputs, correct_outputs):\n",
    "    linear_combination = weight1 * test_input[0] + weight2 * test_input[1] + bias\n",
    "    output = int(linear_combination >= 0)\n",
    "    is_correct_string = 'Yes' if output == correct_output else 'No'\n",
    "    outputs.append([test_input[0], test_input[1], linear_combination, output, is_correct_string])\n",
    "    \n",
    "num_wrong = len([output[4] for output in outputs if output[4] == 'No'])\n",
    "output_frame = pd.DataFrame(outputs, columns=['Input 1','Input 2', 'Linear Combination', 'Activation Output', 'Is Correct'])\n",
    "if not num_wrong:\n",
    "    print('Nice! You got it all correct.\\n')\n",
    "else:\n",
    "    print('You got {} wrong. Keep trying!\\n'.format(num_wrong))\n",
    "print('Now:', weight1, weight2, bias)\n",
    "print(output_frame.to_string(index=False))"
   ]
  },
  {
   "cell_type": "markdown",
   "metadata": {},
   "source": [
    "output = 1, weight1 + weight2 + bias >= 0\n",
    "output = 0, weight1 + bias < 0 or weight2 + bias < 0"
   ]
  }
 ],
 "metadata": {
  "kernelspec": {
   "display_name": "python35",
   "language": "python",
   "name": "python35"
  },
  "language_info": {
   "codemirror_mode": {
    "name": "ipython",
    "version": 3
   },
   "file_extension": ".py",
   "mimetype": "text/x-python",
   "name": "python",
   "nbconvert_exporter": "python",
   "pygments_lexer": "ipython3",
   "version": "3.5.3"
  },
  "toc": {
   "colors": {
    "hover_highlight": "#DAA520",
    "navigate_num": "#000000",
    "navigate_text": "#333333",
    "running_highlight": "#FF0000",
    "selected_highlight": "#FFD700",
    "sidebar_border": "#EEEEEE",
    "wrapper_background": "#FFFFFF"
   },
   "moveMenuLeft": true,
   "nav_menu": {
    "height": "12px",
    "width": "252px"
   },
   "navigate_menu": true,
   "number_sections": true,
   "sideBar": true,
   "threshold": 4,
   "toc_cell": false,
   "toc_section_display": "block",
   "toc_window_display": false,
   "widenNotebook": false
  }
 },
 "nbformat": 4,
 "nbformat_minor": 2
}
